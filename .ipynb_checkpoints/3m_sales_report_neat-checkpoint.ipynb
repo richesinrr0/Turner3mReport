{
 "cells": [
  {
   "cell_type": "code",
   "execution_count": 9,
   "id": "c7533949",
   "metadata": {},
   "outputs": [],
   "source": [
    "import pandas as pd\n",
    "import pyodbc\n",
    "import numpy as np\n",
    "from dateutil.relativedelta import relativedelta\n",
    "from getpass import getpass"
   ]
  },
  {
   "cell_type": "code",
   "execution_count": 15,
   "id": "233af8cd",
   "metadata": {},
   "outputs": [
    {
     "name": "stdout",
     "output_type": "stream",
     "text": [
      "All shape: (670190, 15)\n",
      "3m shape (69845, 15)\n",
      "3mCategory: (69845, 16)\n",
      "password: ········\n",
      "salesPerson: (69845, 17)\n",
      "unit check: ['OAN' 'STK' 'NS']\n",
      "month size: (4158, 17)\n",
      "last 24 months size: (51862, 17)\n"
     ]
    },
    {
     "name": "stderr",
     "output_type": "stream",
     "text": [
      "C:\\Users\\rrichesin\\AppData\\Local\\Temp\\ipykernel_32096\\814469666.py:2: UserWarning: Could not infer format, so each element will be parsed individually, falling back to `dateutil`. To ensure parsing is consistent and as-expected, please specify a format.\n",
      "  df_all['Invoice Date']= pd.to_datetime(df_all['Invoice Date'])\n"
     ]
    },
    {
     "name": "stdout",
     "output_type": "stream",
     "text": [
      "new sales size (106, 18)\n",
      "zeros before size: (106, 18)\n",
      "zeros after size: (73, 18)\n"
     ]
    }
   ],
   "source": [
    "def main():\n",
    "    #inputs \n",
    "    needed_cols = ['Product Number', 'Vendor Number', 'Vendor Part Number', 'Description','Sales Rep Outside', 'Customer #',\\\n",
    "              'Customer Name', 'Customer City', 'Customer State', 'Order Number', 'Order Suffix', 'Stock, Special, Non-Stock',\\\n",
    "                'Invoice Date','Qty Shipped', 'Extended Cost']\n",
    "    \n",
    "    sales_21 = pd.read_csv('data/ts_sales_2021.csv', encoding= 'ANSI', usecols=needed_cols)[needed_cols]\n",
    "    sales_22 = pd.read_csv('data/ts_sales_2022.csv', encoding= 'ANSI', usecols=needed_cols)[needed_cols]\n",
    "    sales_23 = pd.read_csv('data/ts_sales2023-12-05.csv', encoding= 'ANSI', usecols=needed_cols)[needed_cols] #*update\n",
    "    df_all = pd.concat([sales_21,sales_22,sales_23])\n",
    "    print('All shape:', df_all.shape)\n",
    "    \n",
    "    #filter by 3m\n",
    "    all_3m = df_all[(df_all['Vendor Number'] == 80003) | (df_all['Vendor Number'] == 101672)]\n",
    "    print('3m shape', all_3m.shape)\n",
    "    \n",
    "    #read in 3m price list for item categories\n",
    "    priceFile = pd.read_excel('data/Turner_V3_2023-07-31.xlsx', header=1, usecols=['3M Stock #','Product Category Level 1'],dtype={'3M Stock #':str})\n",
    "    with_cat = add3MCategory(all_3m, priceFile)\n",
    "    \n",
    "    #read salesman data from odbc and add it to df\n",
    "    with_sls = salesPerson(with_cat)\n",
    "    \n",
    "    #fix the stocking units\n",
    "    df_all = fixUnits(with_sls)\n",
    "    \n",
    "    #Seperate df in focus month and 24 months back and get new sales\n",
    "    start = pd.to_datetime('2021-10-31 23:59:59') #*update\n",
    "    end = pd.to_datetime('2023-10-31 23:59:59') #*update\n",
    "    \n",
    "    new_sales = dateRanges(df_all, start, end)\n",
    "    \n",
    "    #clean and format the df\n",
    "    cleaned_new = clean(new_sales)\n",
    "    \n",
    "    #export\n",
    "    cleaned_new.to_excel('exports/NovemberReportTest2.xlsx')\n",
    "    \n",
    "if __name__ == '__main__':\n",
    "    main()\n",
    "    "
   ]
  },
  {
   "cell_type": "code",
   "execution_count": 4,
   "id": "45a3143d",
   "metadata": {},
   "outputs": [],
   "source": [
    "def add3MCategory(all_3m, priceFile):\n",
    "    priceFile = priceFile.rename(columns={'3M Stock #': 'Vendor Part Number'})\n",
    "    \n",
    "    with_cat = all_3m.set_index('Vendor Part Number').join(priceFile.set_index('Vendor Part Number'),how='left',on='Vendor Part Number').reset_index()\n",
    "    print('3mCategory:', with_cat.shape) #should be one more column\n",
    "    \n",
    "    return with_cat"
   ]
  },
  {
   "cell_type": "code",
   "execution_count": 13,
   "id": "b2f4b018",
   "metadata": {},
   "outputs": [],
   "source": [
    "def salesPerson(with_cat):\n",
    "    password = getpass('password: ')\n",
    "    conn = pyodbc.connect('Driver={SQL Server};'\n",
    "                     'Server=tsc-v-sql;'\n",
    "                     'Database=TurnerPimCatalog;'\n",
    "                     'UID=ross;'\n",
    "                     f'PWD={password};')\n",
    "    cur = conn.cursor()\n",
    "    \n",
    "    cur.execute('SELECT slsrep,name FROM dbo.[SX.smsn]')\n",
    "    rows = cur.fetchall()\n",
    "    slsrep = pd.Series([i[0] for i in rows])\n",
    "    name = pd.Series([i[1] for i in rows])\n",
    "    salesreps = pd.concat([slsrep, name], axis=1, keys=['slsrep','name'])\n",
    "    \n",
    "    salesreps = salesreps.rename(columns={'slsrep':'Sales Rep Outside', 'name':'Sales Rep Name'})\n",
    "    with_cat['Sales Rep Outside']= with_cat['Sales Rep Outside'].str.lower()\n",
    "    salesreps['Sales Rep Outside']= salesreps['Sales Rep Outside'].str.lower()\n",
    "    salesreps['Sales Rep Name']= salesreps['Sales Rep Name'].str.title()\n",
    "    \n",
    "    with_sls = with_cat.set_index('Sales Rep Outside').join(salesreps.set_index('Sales Rep Outside'),how='left',on='Sales Rep Outside').reset_index()\n",
    "    print('salesPerson:', with_sls.shape) #same rows, one more column\n",
    "    \n",
    "    return with_sls\n",
    "    \n",
    "    "
   ]
  },
  {
   "cell_type": "code",
   "execution_count": 6,
   "id": "92215c6a",
   "metadata": {},
   "outputs": [],
   "source": [
    "def fixUnits(with_sls):\n",
    "    with_sls['Stock, Special, Non-Stock'].replace({'n':'NS','s':'OAN'},inplace=True)\n",
    "    with_sls['Stock, Special, Non-Stock'].fillna('STK',inplace=True)\n",
    "    print('unit check:',with_sls['Stock, Special, Non-Stock'].unique())\n",
    "    return with_sls"
   ]
  },
  {
   "cell_type": "code",
   "execution_count": 7,
   "id": "c41f4a9f",
   "metadata": {},
   "outputs": [],
   "source": [
    "def dateRanges(df_all, start, end):\n",
    "    df_all['Invoice Date']= pd.to_datetime(df_all['Invoice Date'])\n",
    "    \n",
    "    month = df_all[(df_all['Invoice Date'].dt.month == 11) & (df_all['Invoice Date'].dt.year == 2023)]\n",
    "    print('month size:', month.shape)\n",
    "    \n",
    "    months_24 = df_all[(df_all['Invoice Date'] >= start) & (df_all['Invoice Date'] <= end)]\n",
    "    print('last 24 months size:', months_24.shape)\n",
    "    \n",
    "    #get sales in report month NOT in past 24 by Customer Number, Product Number\n",
    "    new_sales = month.merge(months_24, on=['Customer #', 'Product Number'], how='left', indicator=True, suffixes=('', '_DROP')).query('_merge == \"left_only\"').filter(regex='^(?!.*_DROP)')\n",
    "    print('new sales size:', new_sales.shape)\n",
    "    \n",
    "    return new_sales"
   ]
  },
  {
   "cell_type": "code",
   "execution_count": 14,
   "id": "571d123b",
   "metadata": {},
   "outputs": [],
   "source": [
    "def clean(new_sales):\n",
    "    print('zeros before size:', new_sales.shape)\n",
    "    new_sales.drop(new_sales[new_sales['Extended Cost'] <= 0].index, inplace=True)\n",
    "    print('zeros after size:', new_sales.shape)\n",
    "    \n",
    "    new_sales['Extended Cost'] = new_sales['Extended Cost'].map(lambda x: round(x,2))\n",
    "    new_sales.rename(columns={'Product Category Level 1': '3m Category', 'Customer #':'Customer Number', 'Stock, Special, Non-Stock':'Item Type'}, inplace = True)\n",
    "    \n",
    "    cleaned_new = new_sales[['Product Number', 'Vendor Number', 'Vendor Part Number', 'Description','3m Category','Sales Rep Outside','Sales Rep Name', \\\n",
    "                       'Customer Number','Customer Name', 'Customer City', 'Customer State', 'Order Number', 'Order Suffix', 'Item Type',\\\n",
    "                'Invoice Date','Qty Shipped', 'Extended Cost']]\n",
    "    return cleaned_new"
   ]
  },
  {
   "cell_type": "code",
   "execution_count": null,
   "id": "bdfa06fe",
   "metadata": {},
   "outputs": [],
   "source": []
  },
  {
   "cell_type": "code",
   "execution_count": null,
   "id": "6896f46d",
   "metadata": {},
   "outputs": [],
   "source": []
  },
  {
   "cell_type": "code",
   "execution_count": null,
   "id": "65a54f98",
   "metadata": {},
   "outputs": [],
   "source": []
  }
 ],
 "metadata": {
  "kernelspec": {
   "display_name": "Python 3 (ipykernel)",
   "language": "python",
   "name": "python3"
  },
  "language_info": {
   "codemirror_mode": {
    "name": "ipython",
    "version": 3
   },
   "file_extension": ".py",
   "mimetype": "text/x-python",
   "name": "python",
   "nbconvert_exporter": "python",
   "pygments_lexer": "ipython3",
   "version": "3.11.5"
  }
 },
 "nbformat": 4,
 "nbformat_minor": 5
}
